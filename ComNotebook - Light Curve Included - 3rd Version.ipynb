{
 "cells": [
  {
   "cell_type": "code",
   "execution_count": 1,
   "id": "3937417c",
   "metadata": {},
   "outputs": [],
   "source": [
    "import itertools\n",
    "import matplotlib.pyplot as plt\n",
    "import numpy as np\n",
    "import math\n",
    "from lenstronomy.Cosmo.micro_lensing import einstein_radius, source_size\n",
    "from lenstronomy.LensModel.lens_model import LensModel"
   ]
  },
  {
   "cell_type": "code",
   "execution_count": 2,
   "id": "912b3c3b",
   "metadata": {},
   "outputs": [],
   "source": [
    "def sub_pixel_creator(center, side_length, n_p):\n",
    "    \n",
    "    step_size = side_length / n_p\n",
    "    leftmost_x = center[0] - side_length / 2\n",
    "    lowest_y = center[1] - side_length / 2\n",
    "\n",
    "    center_xs, center_ys = [], []\n",
    "    center_x, center_y = leftmost_x + step_size / 2, lowest_y + step_size / 2\n",
    "    for i in range(n_p):\n",
    "        center_xs.append(center_x)\n",
    "        center_ys.append(center_y)\n",
    "        center_x += step_size\n",
    "        center_y += step_size\n",
    "    \n",
    "    centers = list(itertools.product(center_xs, center_ys))\n",
    "    return centers\n",
    "\n",
    "def loop_parameters(eta, beta_0, beta_s):\n",
    "    \n",
    "    N = 1 + math.log((beta_0 / beta_s), eta)\n",
    "    number_of_iterations = math.ceil(N)\n",
    "    N_star = N - math.floor(N)\n",
    "    final_eta = eta ** N_star \n",
    "\n",
    "    return number_of_iterations, final_eta\n",
    "\n",
    "\n",
    "def within_distance(center_point, test_point, threshold):\n",
    "    squared_threshold = threshold ** 2\n",
    "    distance = (center_point[0] - test_point[0]) ** 2 + (center_point[1] - test_point[1]) ** 2 \n",
    "    if distance <= squared_threshold:\n",
    "        return True\n",
    "    else: \n",
    "        return False\n",
    "    \n",
    "def image(source_position, L, beta_0, beta_s, n_p, eta, number_of_iterations, final_eta, kwargs_lens):\n",
    "    \n",
    "    total_number_of_rays_shot = n_p ** 2 \n",
    "    centers = sub_pixel_creator((0,0), L, n_p)\n",
    "    delta_beta = beta_0\n",
    "    side_length = L / n_p\n",
    "    i = 2\n",
    "    \n",
    "    while i <= number_of_iterations: \n",
    "        \n",
    "        if i < number_of_iterations:\n",
    "            delta_beta /= eta\n",
    "        elif i == number_of_iterations:\n",
    "            delta_beta /= final_eta\n",
    "    \n",
    "        running_list_of_new_centers = []\n",
    "        for center in centers:\n",
    "            source_coords = lens.ray_shooting(center[0], center[1], kwargs = kwargs_lens)\n",
    "            total_number_of_rays_shot += 1\n",
    "            if within_distance(source_coords, source_position, delta_beta):\n",
    "                resultant_centers = sub_pixel_creator(center, side_length, n_p) \n",
    "                running_list_of_new_centers.extend(resultant_centers)\n",
    "        centers = running_list_of_new_centers\n",
    "        \n",
    "        side_length /= n_p\n",
    "        i += 1\n",
    "        \n",
    "    magnification = (len(centers) * side_length ** 2) / (math.pi * (beta_s ** 2)) \n",
    "\n",
    "    return centers, magnification, total_number_of_rays_shot\n",
    "\n",
    "def show_image(image_pixel_coordinates, theta_E):\n",
    "    ax = plt.gca()\n",
    "    ax.set_aspect('equal', adjustable='box')\n",
    "    plt.ylim(-2 * theta_E, 2 * theta_E)\n",
    "    plt.xlim(-2 * theta_E, 2 * theta_E)\n",
    "    plt.xlabel(\"Projected horizontal position on sky (arcseconds)\")\n",
    "    plt.ylabel(\"Projected vertical position on sky (arcseconds)\")\n",
    "    ax.invert_yaxis()\n",
    "    plt.scatter(*zip(*image_pixel_coordinates))"
   ]
  },
  {
   "cell_type": "code",
   "execution_count": 3,
   "id": "ceb62379",
   "metadata": {},
   "outputs": [],
   "source": [
    "d_l = 4000 \n",
    "d_s = 8000 \n",
    "M0 = 0.01 \n",
    "diameter_s = 1\n",
    "theta_E = einstein_radius(M0, d_l, d_s)\n",
    "size_s = source_size(diameter_s, d_s)\n",
    "source_position = (0, 0)\n",
    "L = theta_E * 4\n",
    "beta_0 = 4 * L \n",
    "beta_s = size_s / 2\n",
    "n_p = 12\n",
    "eta = 0.7 * n_p\n",
    "loop_information = loop_parameters(eta, beta_0, beta_s)\n",
    "number_of_iterations = loop_information[0]\n",
    "final_eta = loop_information[1]\n",
    "lens = LensModel(lens_model_list=['POINT_MASS'])\n",
    "kwargs_lens = [{'theta_E': theta_E, 'center_x': theta_E / 5000, 'center_y': 0}]"
   ]
  },
  {
   "cell_type": "code",
   "execution_count": 4,
   "id": "e0741021",
   "metadata": {
    "scrolled": true
   },
   "outputs": [
    {
     "name": "stdout",
     "output_type": "stream",
     "text": [
      "346.88569524165354\n"
     ]
    }
   ],
   "source": [
    "output = image(source_position, L, beta_0, beta_s, n_p, eta, number_of_iterations, final_eta, kwargs_lens)\n",
    "print(output[1])"
   ]
  },
  {
   "cell_type": "code",
   "execution_count": 21,
   "id": "ee045d86",
   "metadata": {},
   "outputs": [],
   "source": [
    "def trajectory(length, steps, theta_E):\n",
    "    # operates in units of multiples of theta_E\n",
    "    points = []\n",
    "    step_size = length / steps\n",
    "    x_t = 0 - length / 2\n",
    "    i = 0\n",
    "    while i <= steps:\n",
    "        point = (x_t, 0) # replace 0 with desired f(x_t), e.g. x_t + theta_E / 2 \n",
    "        points.append(point)\n",
    "        x_t += step_size\n",
    "        i += 1\n",
    "    return [(point[0] * theta_E, point[1] * theta_E) for point in points]\n",
    "        \n",
    "source_path = trajectory(0.5, 10, theta_E)\n",
    "\n",
    "magnifications = []\n",
    "for source_position in source_path:\n",
    "    magnification = image(source_position, L, beta_0, beta_s, n_p, eta, number_of_iterations, final_eta, kwargs_lens)[1]\n",
    "    magnifications.append(magnification)"
   ]
  },
  {
   "cell_type": "code",
   "execution_count": 22,
   "id": "017766bd",
   "metadata": {},
   "outputs": [
    {
     "data": {
      "text/plain": [
       "[4.099585448507964,\n",
       " 5.0602920593535154,\n",
       " 6.702836472699695,\n",
       " 10.015027638821996,\n",
       " 19.987975329581715,\n",
       " 346.88569524165354,\n",
       " 20.140604293739806,\n",
       " 10.072798414975292,\n",
       " 6.735644567799097,\n",
       " 5.079548984737947,\n",
       " 4.101725106884012]"
      ]
     },
     "execution_count": 22,
     "metadata": {},
     "output_type": "execute_result"
    }
   ],
   "source": [
    "magnifications"
   ]
  },
  {
   "cell_type": "code",
   "execution_count": 28,
   "id": "4a3bf871",
   "metadata": {},
   "outputs": [
    {
     "data": {
      "text/plain": [
       "<matplotlib.collections.PathCollection at 0x14d98c190>"
      ]
     },
     "execution_count": 28,
     "metadata": {},
     "output_type": "execute_result"
    },
    {
     "data": {
      "image/png": "[encoded data removed]",
      "text/plain": [
       "<Figure size 640x480 with 1 Axes>"
      ]
     },
     "metadata": {},
     "output_type": "display_data"
    }
   ],
   "source": [
    "plt.scatter([n for n in range(11)], magnifications)"
   ]
  }
 ],
 "metadata": {
  "kernelspec": {
   "display_name": "Python 3 (ipykernel)",
   "language": "python",
   "name": "python3"
  },
  "language_info": {
   "codemirror_mode": {
    "name": "ipython",
    "version": 3
   },
   "file_extension": ".py",
   "mimetype": "text/x-python",
   "name": "python",
   "nbconvert_exporter": "python",
   "pygments_lexer": "ipython3",
   "version": "3.10.9"
  }
 },
 "nbformat": 4,
 "nbformat_minor": 5
}
