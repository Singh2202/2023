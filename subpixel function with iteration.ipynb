{
 "cells": [
  {
   "cell_type": "code",
   "execution_count": 1,
   "id": "5ea4ded6",
   "metadata": {},
   "outputs": [],
   "source": [
    "import itertools\n",
    "import matplotlib.pyplot as plt"
   ]
  },
  {
   "cell_type": "code",
   "execution_count": 2,
   "id": "a33953a8",
   "metadata": {},
   "outputs": [],
   "source": [
    "def sub_pixel_creator(center, side_length, n_p):\n",
    "    \n",
    "    step_size = side_length / n_p\n",
    "    leftmost_x = center[0] - side_length / 2\n",
    "    lowest_y = center[1] - side_length / 2\n",
    "\n",
    "    center_xs, center_ys = [], []\n",
    "    center_x, center_y = leftmost_x + step_size / 2, lowest_y + step_size / 2\n",
    "    \n",
    "    for i in range(n_p):\n",
    "        center_xs.append(center_x)\n",
    "        center_ys.append(center_y)\n",
    "        center_x += step_size\n",
    "        center_y += step_size\n",
    "    \n",
    "    centers = list(itertools.product(center_xs, center_ys))\n",
    "    new_side_length = step_size \n",
    "    \n",
    "    return centers, new_side_length"
   ]
  },
  {
   "cell_type": "code",
   "execution_count": 3,
   "id": "f98e2fc9",
   "metadata": {},
   "outputs": [],
   "source": [
    "def iterative_sub_pixel_creator(initial_center, side_length, n_p, desired_runs):\n",
    "    \n",
    "    i = 0\n",
    "    centers = [initial_center]\n",
    "    \n",
    "    while i < desired_runs:\n",
    "        \n",
    "        running_list_of_centers = []\n",
    "        for center in centers:\n",
    "            output_centers, new_side_length = sub_pixel_creator(center, side_length, n_p)\n",
    "            for value in output_centers:\n",
    "                running_list_of_centers.append(value)\n",
    "        \n",
    "        centers = running_list_of_centers\n",
    "        side_length = new_side_length\n",
    "        i += 1\n",
    "    \n",
    "    return centers"
   ]
  },
  {
   "cell_type": "code",
   "execution_count": 6,
   "id": "112ee510",
   "metadata": {
    "scrolled": false
   },
   "outputs": [
    {
     "data": {
      "image/png": "[encoded data removed]",
      "text/plain": [
       "<Figure size 640x480 with 1 Axes>"
      ]
     },
     "metadata": {},
     "output_type": "display_data"
    }
   ],
   "source": [
    "initial_center = (0,0)\n",
    "side_length = 16\n",
    "n_p = 2\n",
    "for run in range(1, 4):\n",
    "    plt.scatter(*zip(*iterative_sub_pixel_creator(initial_center, side_length, n_p, run)))\n",
    "    plt.axis('square')\n",
    "    plt.xlim(-8, 8)\n",
    "    plt.ylim(-8, 8)"
   ]
  }
 ],
 "metadata": {
  "kernelspec": {
   "display_name": "Python 3 (ipykernel)",
   "language": "python",
   "name": "python3"
  },
  "language_info": {
   "codemirror_mode": {
    "name": "ipython",
    "version": 3
   },
   "file_extension": ".py",
   "mimetype": "text/x-python",
   "name": "python",
   "nbconvert_exporter": "python",
   "pygments_lexer": "ipython3",
   "version": "3.10.9"
  }
 },
 "nbformat": 4,
 "nbformat_minor": 5
}
